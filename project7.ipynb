{
 "cells": [
  {
   "cell_type": "markdown",
   "metadata": {},
   "source": [
    "#Project 7\n",
    "\n",
    "#### I honestly just have a lot going on this week and dont have time to work through this. I will likely look through this at a later time. This is one of the more interesting projects that I have seen over the course of this masters program. This class has been much more interesting than all of the Math classes I have had to take!"
   ]
  }
 ],
 "metadata": {
  "kernelspec": {
   "display_name": ".venv",
   "language": "python",
   "name": "python3"
  },
  "language_info": {
   "name": "python",
   "version": "3.7.4"
  }
 },
 "nbformat": 4,
 "nbformat_minor": 2
}
